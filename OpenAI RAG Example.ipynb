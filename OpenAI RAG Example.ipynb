{
  "nbformat": 4,
  "nbformat_minor": 0,
  "metadata": {
    "colab": {
      "provenance": [],
      "gpuType": "T4"
    },
    "kernelspec": {
      "name": "python3",
      "display_name": "Python 3"
    },
    "language_info": {
      "name": "python"
    },
    "accelerator": "GPU",
    "widgets": {
      "application/vnd.jupyter.widget-state+json": {
        "a4a67fd60e914ff48aaf4e866b29ed53": {
          "model_module": "@jupyter-widgets/controls",
          "model_name": "HBoxModel",
          "model_module_version": "1.5.0",
          "state": {
            "_dom_classes": [],
            "_model_module": "@jupyter-widgets/controls",
            "_model_module_version": "1.5.0",
            "_model_name": "HBoxModel",
            "_view_count": null,
            "_view_module": "@jupyter-widgets/controls",
            "_view_module_version": "1.5.0",
            "_view_name": "HBoxView",
            "box_style": "",
            "children": [
              "IPY_MODEL_5e1c0890ea4448359260bb66f87f1a46",
              "IPY_MODEL_01c2e3353599467ab0593f6d377634c1",
              "IPY_MODEL_bafd00eaae8f4fc3b9726cf30a8342ea"
            ],
            "layout": "IPY_MODEL_5ed2668ef5df45b782de451936ef65dd"
          }
        },
        "5e1c0890ea4448359260bb66f87f1a46": {
          "model_module": "@jupyter-widgets/controls",
          "model_name": "HTMLModel",
          "model_module_version": "1.5.0",
          "state": {
            "_dom_classes": [],
            "_model_module": "@jupyter-widgets/controls",
            "_model_module_version": "1.5.0",
            "_model_name": "HTMLModel",
            "_view_count": null,
            "_view_module": "@jupyter-widgets/controls",
            "_view_module_version": "1.5.0",
            "_view_name": "HTMLView",
            "description": "",
            "description_tooltip": null,
            "layout": "IPY_MODEL_e978018e26c74329bc1a69231c3b77d2",
            "placeholder": "​",
            "style": "IPY_MODEL_af41274da7244ca79aa5ddf59763abde",
            "value": "Batches: 100%"
          }
        },
        "01c2e3353599467ab0593f6d377634c1": {
          "model_module": "@jupyter-widgets/controls",
          "model_name": "FloatProgressModel",
          "model_module_version": "1.5.0",
          "state": {
            "_dom_classes": [],
            "_model_module": "@jupyter-widgets/controls",
            "_model_module_version": "1.5.0",
            "_model_name": "FloatProgressModel",
            "_view_count": null,
            "_view_module": "@jupyter-widgets/controls",
            "_view_module_version": "1.5.0",
            "_view_name": "ProgressView",
            "bar_style": "success",
            "description": "",
            "description_tooltip": null,
            "layout": "IPY_MODEL_c0291c63117d414db9875005dc2cfdb4",
            "max": 38,
            "min": 0,
            "orientation": "horizontal",
            "style": "IPY_MODEL_e08c374d2b1c4fdcb1cd33b42619f3c8",
            "value": 38
          }
        },
        "bafd00eaae8f4fc3b9726cf30a8342ea": {
          "model_module": "@jupyter-widgets/controls",
          "model_name": "HTMLModel",
          "model_module_version": "1.5.0",
          "state": {
            "_dom_classes": [],
            "_model_module": "@jupyter-widgets/controls",
            "_model_module_version": "1.5.0",
            "_model_name": "HTMLModel",
            "_view_count": null,
            "_view_module": "@jupyter-widgets/controls",
            "_view_module_version": "1.5.0",
            "_view_name": "HTMLView",
            "description": "",
            "description_tooltip": null,
            "layout": "IPY_MODEL_b5f8ef46f10a46bfb94bcefa03ac9f37",
            "placeholder": "​",
            "style": "IPY_MODEL_92d0d59012754efa97287f791138742a",
            "value": " 38/38 [00:07&lt;00:00, 12.82it/s]"
          }
        },
        "5ed2668ef5df45b782de451936ef65dd": {
          "model_module": "@jupyter-widgets/base",
          "model_name": "LayoutModel",
          "model_module_version": "1.2.0",
          "state": {
            "_model_module": "@jupyter-widgets/base",
            "_model_module_version": "1.2.0",
            "_model_name": "LayoutModel",
            "_view_count": null,
            "_view_module": "@jupyter-widgets/base",
            "_view_module_version": "1.2.0",
            "_view_name": "LayoutView",
            "align_content": null,
            "align_items": null,
            "align_self": null,
            "border": null,
            "bottom": null,
            "display": null,
            "flex": null,
            "flex_flow": null,
            "grid_area": null,
            "grid_auto_columns": null,
            "grid_auto_flow": null,
            "grid_auto_rows": null,
            "grid_column": null,
            "grid_gap": null,
            "grid_row": null,
            "grid_template_areas": null,
            "grid_template_columns": null,
            "grid_template_rows": null,
            "height": null,
            "justify_content": null,
            "justify_items": null,
            "left": null,
            "margin": null,
            "max_height": null,
            "max_width": null,
            "min_height": null,
            "min_width": null,
            "object_fit": null,
            "object_position": null,
            "order": null,
            "overflow": null,
            "overflow_x": null,
            "overflow_y": null,
            "padding": null,
            "right": null,
            "top": null,
            "visibility": null,
            "width": null
          }
        },
        "e978018e26c74329bc1a69231c3b77d2": {
          "model_module": "@jupyter-widgets/base",
          "model_name": "LayoutModel",
          "model_module_version": "1.2.0",
          "state": {
            "_model_module": "@jupyter-widgets/base",
            "_model_module_version": "1.2.0",
            "_model_name": "LayoutModel",
            "_view_count": null,
            "_view_module": "@jupyter-widgets/base",
            "_view_module_version": "1.2.0",
            "_view_name": "LayoutView",
            "align_content": null,
            "align_items": null,
            "align_self": null,
            "border": null,
            "bottom": null,
            "display": null,
            "flex": null,
            "flex_flow": null,
            "grid_area": null,
            "grid_auto_columns": null,
            "grid_auto_flow": null,
            "grid_auto_rows": null,
            "grid_column": null,
            "grid_gap": null,
            "grid_row": null,
            "grid_template_areas": null,
            "grid_template_columns": null,
            "grid_template_rows": null,
            "height": null,
            "justify_content": null,
            "justify_items": null,
            "left": null,
            "margin": null,
            "max_height": null,
            "max_width": null,
            "min_height": null,
            "min_width": null,
            "object_fit": null,
            "object_position": null,
            "order": null,
            "overflow": null,
            "overflow_x": null,
            "overflow_y": null,
            "padding": null,
            "right": null,
            "top": null,
            "visibility": null,
            "width": null
          }
        },
        "af41274da7244ca79aa5ddf59763abde": {
          "model_module": "@jupyter-widgets/controls",
          "model_name": "DescriptionStyleModel",
          "model_module_version": "1.5.0",
          "state": {
            "_model_module": "@jupyter-widgets/controls",
            "_model_module_version": "1.5.0",
            "_model_name": "DescriptionStyleModel",
            "_view_count": null,
            "_view_module": "@jupyter-widgets/base",
            "_view_module_version": "1.2.0",
            "_view_name": "StyleView",
            "description_width": ""
          }
        },
        "c0291c63117d414db9875005dc2cfdb4": {
          "model_module": "@jupyter-widgets/base",
          "model_name": "LayoutModel",
          "model_module_version": "1.2.0",
          "state": {
            "_model_module": "@jupyter-widgets/base",
            "_model_module_version": "1.2.0",
            "_model_name": "LayoutModel",
            "_view_count": null,
            "_view_module": "@jupyter-widgets/base",
            "_view_module_version": "1.2.0",
            "_view_name": "LayoutView",
            "align_content": null,
            "align_items": null,
            "align_self": null,
            "border": null,
            "bottom": null,
            "display": null,
            "flex": null,
            "flex_flow": null,
            "grid_area": null,
            "grid_auto_columns": null,
            "grid_auto_flow": null,
            "grid_auto_rows": null,
            "grid_column": null,
            "grid_gap": null,
            "grid_row": null,
            "grid_template_areas": null,
            "grid_template_columns": null,
            "grid_template_rows": null,
            "height": null,
            "justify_content": null,
            "justify_items": null,
            "left": null,
            "margin": null,
            "max_height": null,
            "max_width": null,
            "min_height": null,
            "min_width": null,
            "object_fit": null,
            "object_position": null,
            "order": null,
            "overflow": null,
            "overflow_x": null,
            "overflow_y": null,
            "padding": null,
            "right": null,
            "top": null,
            "visibility": null,
            "width": null
          }
        },
        "e08c374d2b1c4fdcb1cd33b42619f3c8": {
          "model_module": "@jupyter-widgets/controls",
          "model_name": "ProgressStyleModel",
          "model_module_version": "1.5.0",
          "state": {
            "_model_module": "@jupyter-widgets/controls",
            "_model_module_version": "1.5.0",
            "_model_name": "ProgressStyleModel",
            "_view_count": null,
            "_view_module": "@jupyter-widgets/base",
            "_view_module_version": "1.2.0",
            "_view_name": "StyleView",
            "bar_color": null,
            "description_width": ""
          }
        },
        "b5f8ef46f10a46bfb94bcefa03ac9f37": {
          "model_module": "@jupyter-widgets/base",
          "model_name": "LayoutModel",
          "model_module_version": "1.2.0",
          "state": {
            "_model_module": "@jupyter-widgets/base",
            "_model_module_version": "1.2.0",
            "_model_name": "LayoutModel",
            "_view_count": null,
            "_view_module": "@jupyter-widgets/base",
            "_view_module_version": "1.2.0",
            "_view_name": "LayoutView",
            "align_content": null,
            "align_items": null,
            "align_self": null,
            "border": null,
            "bottom": null,
            "display": null,
            "flex": null,
            "flex_flow": null,
            "grid_area": null,
            "grid_auto_columns": null,
            "grid_auto_flow": null,
            "grid_auto_rows": null,
            "grid_column": null,
            "grid_gap": null,
            "grid_row": null,
            "grid_template_areas": null,
            "grid_template_columns": null,
            "grid_template_rows": null,
            "height": null,
            "justify_content": null,
            "justify_items": null,
            "left": null,
            "margin": null,
            "max_height": null,
            "max_width": null,
            "min_height": null,
            "min_width": null,
            "object_fit": null,
            "object_position": null,
            "order": null,
            "overflow": null,
            "overflow_x": null,
            "overflow_y": null,
            "padding": null,
            "right": null,
            "top": null,
            "visibility": null,
            "width": null
          }
        },
        "92d0d59012754efa97287f791138742a": {
          "model_module": "@jupyter-widgets/controls",
          "model_name": "DescriptionStyleModel",
          "model_module_version": "1.5.0",
          "state": {
            "_model_module": "@jupyter-widgets/controls",
            "_model_module_version": "1.5.0",
            "_model_name": "DescriptionStyleModel",
            "_view_count": null,
            "_view_module": "@jupyter-widgets/base",
            "_view_module_version": "1.2.0",
            "_view_name": "StyleView",
            "description_width": ""
          }
        }
      }
    }
  },
  "cells": [
    {
      "cell_type": "markdown",
      "source": [
        "# Retrieval Augmented Generation (RAG) Example With E-Commerce Reviews"
      ],
      "metadata": {
        "id": "VwnG-bC7vfgV"
      }
    },
    {
      "cell_type": "code",
      "source": [
        "!pip install -qU langchain"
      ],
      "metadata": {
        "id": "jxTwFULAzwr6"
      },
      "execution_count": 1,
      "outputs": []
    },
    {
      "cell_type": "markdown",
      "source": [
        "## Data Preparation\n",
        "\n",
        "We are going to use an e-commerce review dataset. For simplicity, we will limit the data with the product with most votes. Download the csv file from the following URL.\n",
        "\n",
        "Link: https://www.kaggle.com/datasets/nicapotato/womens-ecommerce-clothing-reviews/data\n"
      ],
      "metadata": {
        "id": "6tQ12nMrvw30"
      }
    },
    {
      "cell_type": "markdown",
      "source": [
        "### Download Data"
      ],
      "metadata": {
        "id": "ryV_AUAX2mUK"
      }
    },
    {
      "cell_type": "code",
      "execution_count": 2,
      "metadata": {
        "id": "o21zn1hxu6HT"
      },
      "outputs": [],
      "source": [
        "import pandas as pd"
      ]
    },
    {
      "cell_type": "code",
      "source": [
        "reviews_df = pd.read_csv(\"Womens Clothing E-Commerce Reviews.csv\", index_col=[0])"
      ],
      "metadata": {
        "id": "C8n6Bc6L_8TY"
      },
      "execution_count": 3,
      "outputs": []
    },
    {
      "cell_type": "code",
      "source": [
        "reviews_df[\"Clothing ID\"].value_counts()"
      ],
      "metadata": {
        "colab": {
          "base_uri": "https://localhost:8080/"
        },
        "id": "j8wHQbT1wbD6",
        "outputId": "2edee16b-01b4-4fbb-d5cd-04a8a0be3792"
      },
      "execution_count": 4,
      "outputs": [
        {
          "output_type": "execute_result",
          "data": {
            "text/plain": [
              "1078    1024\n",
              "862      806\n",
              "1094     756\n",
              "1081     582\n",
              "872      545\n",
              "        ... \n",
              "776        1\n",
              "668        1\n",
              "633        1\n",
              "734        1\n",
              "522        1\n",
              "Name: Clothing ID, Length: 1206, dtype: int64"
            ]
          },
          "metadata": {},
          "execution_count": 4
        }
      ]
    },
    {
      "cell_type": "code",
      "source": [
        "reviews_df = reviews_df[reviews_df[\"Clothing ID\"] == 1078]"
      ],
      "metadata": {
        "id": "7K9b3FBgA1mI"
      },
      "execution_count": 5,
      "outputs": []
    },
    {
      "cell_type": "code",
      "source": [
        "reviews_df.head()"
      ],
      "metadata": {
        "colab": {
          "base_uri": "https://localhost:8080/",
          "height": 206
        },
        "id": "Q1VS3eazA8UL",
        "outputId": "9ff0b33b-f700-47d3-c7f2-bbb0e06b75d8"
      },
      "execution_count": 6,
      "outputs": [
        {
          "output_type": "execute_result",
          "data": {
            "text/plain": [
              "     Clothing ID  Age                   Title  \\\n",
              "69          1078   56    Great summer fabric!   \n",
              "90          1078   51  Sweet flattering dress   \n",
              "117         1078   32                     NaN   \n",
              "467         1078   61    Great sweater dress!   \n",
              "470         1078   33         Cute, but cheap   \n",
              "\n",
              "                                           Review Text  Rating  \\\n",
              "69   I really wanted this to work. alas, it had a s...       3   \n",
              "90   I love cute summer dresses and this one, espec...       4   \n",
              "117  This is the perfect summer dress. it can be dr...       5   \n",
              "467  Nice fit and flare style, not clingy at all. i...       5   \n",
              "470  When i first opened this dress and tried it on...       3   \n",
              "\n",
              "     Recommended IND  Positive Feedback Count   Division Name Department Name  \\\n",
              "69                 0                        1  General Petite         Dresses   \n",
              "90                 1                        0  General Petite         Dresses   \n",
              "117                1                        2  General Petite         Dresses   \n",
              "467                1                        1         General         Dresses   \n",
              "470                0                        0         General         Dresses   \n",
              "\n",
              "    Class Name  \n",
              "69     Dresses  \n",
              "90     Dresses  \n",
              "117    Dresses  \n",
              "467    Dresses  \n",
              "470    Dresses  "
            ],
            "text/html": [
              "\n",
              "  <div id=\"df-ca911b46-2a3e-4b26-8ec7-b91eb7ade2c8\" class=\"colab-df-container\">\n",
              "    <div>\n",
              "<style scoped>\n",
              "    .dataframe tbody tr th:only-of-type {\n",
              "        vertical-align: middle;\n",
              "    }\n",
              "\n",
              "    .dataframe tbody tr th {\n",
              "        vertical-align: top;\n",
              "    }\n",
              "\n",
              "    .dataframe thead th {\n",
              "        text-align: right;\n",
              "    }\n",
              "</style>\n",
              "<table border=\"1\" class=\"dataframe\">\n",
              "  <thead>\n",
              "    <tr style=\"text-align: right;\">\n",
              "      <th></th>\n",
              "      <th>Clothing ID</th>\n",
              "      <th>Age</th>\n",
              "      <th>Title</th>\n",
              "      <th>Review Text</th>\n",
              "      <th>Rating</th>\n",
              "      <th>Recommended IND</th>\n",
              "      <th>Positive Feedback Count</th>\n",
              "      <th>Division Name</th>\n",
              "      <th>Department Name</th>\n",
              "      <th>Class Name</th>\n",
              "    </tr>\n",
              "  </thead>\n",
              "  <tbody>\n",
              "    <tr>\n",
              "      <th>69</th>\n",
              "      <td>1078</td>\n",
              "      <td>56</td>\n",
              "      <td>Great summer fabric!</td>\n",
              "      <td>I really wanted this to work. alas, it had a s...</td>\n",
              "      <td>3</td>\n",
              "      <td>0</td>\n",
              "      <td>1</td>\n",
              "      <td>General Petite</td>\n",
              "      <td>Dresses</td>\n",
              "      <td>Dresses</td>\n",
              "    </tr>\n",
              "    <tr>\n",
              "      <th>90</th>\n",
              "      <td>1078</td>\n",
              "      <td>51</td>\n",
              "      <td>Sweet flattering dress</td>\n",
              "      <td>I love cute summer dresses and this one, espec...</td>\n",
              "      <td>4</td>\n",
              "      <td>1</td>\n",
              "      <td>0</td>\n",
              "      <td>General Petite</td>\n",
              "      <td>Dresses</td>\n",
              "      <td>Dresses</td>\n",
              "    </tr>\n",
              "    <tr>\n",
              "      <th>117</th>\n",
              "      <td>1078</td>\n",
              "      <td>32</td>\n",
              "      <td>NaN</td>\n",
              "      <td>This is the perfect summer dress. it can be dr...</td>\n",
              "      <td>5</td>\n",
              "      <td>1</td>\n",
              "      <td>2</td>\n",
              "      <td>General Petite</td>\n",
              "      <td>Dresses</td>\n",
              "      <td>Dresses</td>\n",
              "    </tr>\n",
              "    <tr>\n",
              "      <th>467</th>\n",
              "      <td>1078</td>\n",
              "      <td>61</td>\n",
              "      <td>Great sweater dress!</td>\n",
              "      <td>Nice fit and flare style, not clingy at all. i...</td>\n",
              "      <td>5</td>\n",
              "      <td>1</td>\n",
              "      <td>1</td>\n",
              "      <td>General</td>\n",
              "      <td>Dresses</td>\n",
              "      <td>Dresses</td>\n",
              "    </tr>\n",
              "    <tr>\n",
              "      <th>470</th>\n",
              "      <td>1078</td>\n",
              "      <td>33</td>\n",
              "      <td>Cute, but cheap</td>\n",
              "      <td>When i first opened this dress and tried it on...</td>\n",
              "      <td>3</td>\n",
              "      <td>0</td>\n",
              "      <td>0</td>\n",
              "      <td>General</td>\n",
              "      <td>Dresses</td>\n",
              "      <td>Dresses</td>\n",
              "    </tr>\n",
              "  </tbody>\n",
              "</table>\n",
              "</div>\n",
              "    <div class=\"colab-df-buttons\">\n",
              "\n",
              "  <div class=\"colab-df-container\">\n",
              "    <button class=\"colab-df-convert\" onclick=\"convertToInteractive('df-ca911b46-2a3e-4b26-8ec7-b91eb7ade2c8')\"\n",
              "            title=\"Convert this dataframe to an interactive table.\"\n",
              "            style=\"display:none;\">\n",
              "\n",
              "  <svg xmlns=\"http://www.w3.org/2000/svg\" height=\"24px\" viewBox=\"0 -960 960 960\">\n",
              "    <path d=\"M120-120v-720h720v720H120Zm60-500h600v-160H180v160Zm220 220h160v-160H400v160Zm0 220h160v-160H400v160ZM180-400h160v-160H180v160Zm440 0h160v-160H620v160ZM180-180h160v-160H180v160Zm440 0h160v-160H620v160Z\"/>\n",
              "  </svg>\n",
              "    </button>\n",
              "\n",
              "  <style>\n",
              "    .colab-df-container {\n",
              "      display:flex;\n",
              "      gap: 12px;\n",
              "    }\n",
              "\n",
              "    .colab-df-convert {\n",
              "      background-color: #E8F0FE;\n",
              "      border: none;\n",
              "      border-radius: 50%;\n",
              "      cursor: pointer;\n",
              "      display: none;\n",
              "      fill: #1967D2;\n",
              "      height: 32px;\n",
              "      padding: 0 0 0 0;\n",
              "      width: 32px;\n",
              "    }\n",
              "\n",
              "    .colab-df-convert:hover {\n",
              "      background-color: #E2EBFA;\n",
              "      box-shadow: 0px 1px 2px rgba(60, 64, 67, 0.3), 0px 1px 3px 1px rgba(60, 64, 67, 0.15);\n",
              "      fill: #174EA6;\n",
              "    }\n",
              "\n",
              "    .colab-df-buttons div {\n",
              "      margin-bottom: 4px;\n",
              "    }\n",
              "\n",
              "    [theme=dark] .colab-df-convert {\n",
              "      background-color: #3B4455;\n",
              "      fill: #D2E3FC;\n",
              "    }\n",
              "\n",
              "    [theme=dark] .colab-df-convert:hover {\n",
              "      background-color: #434B5C;\n",
              "      box-shadow: 0px 1px 3px 1px rgba(0, 0, 0, 0.15);\n",
              "      filter: drop-shadow(0px 1px 2px rgba(0, 0, 0, 0.3));\n",
              "      fill: #FFFFFF;\n",
              "    }\n",
              "  </style>\n",
              "\n",
              "    <script>\n",
              "      const buttonEl =\n",
              "        document.querySelector('#df-ca911b46-2a3e-4b26-8ec7-b91eb7ade2c8 button.colab-df-convert');\n",
              "      buttonEl.style.display =\n",
              "        google.colab.kernel.accessAllowed ? 'block' : 'none';\n",
              "\n",
              "      async function convertToInteractive(key) {\n",
              "        const element = document.querySelector('#df-ca911b46-2a3e-4b26-8ec7-b91eb7ade2c8');\n",
              "        const dataTable =\n",
              "          await google.colab.kernel.invokeFunction('convertToInteractive',\n",
              "                                                    [key], {});\n",
              "        if (!dataTable) return;\n",
              "\n",
              "        const docLinkHtml = 'Like what you see? Visit the ' +\n",
              "          '<a target=\"_blank\" href=https://colab.research.google.com/notebooks/data_table.ipynb>data table notebook</a>'\n",
              "          + ' to learn more about interactive tables.';\n",
              "        element.innerHTML = '';\n",
              "        dataTable['output_type'] = 'display_data';\n",
              "        await google.colab.output.renderOutput(dataTable, element);\n",
              "        const docLink = document.createElement('div');\n",
              "        docLink.innerHTML = docLinkHtml;\n",
              "        element.appendChild(docLink);\n",
              "      }\n",
              "    </script>\n",
              "  </div>\n",
              "\n",
              "\n",
              "<div id=\"df-3f32374c-7a57-416f-a5e2-6caa7127ca0b\">\n",
              "  <button class=\"colab-df-quickchart\" onclick=\"quickchart('df-3f32374c-7a57-416f-a5e2-6caa7127ca0b')\"\n",
              "            title=\"Suggest charts\"\n",
              "            style=\"display:none;\">\n",
              "\n",
              "<svg xmlns=\"http://www.w3.org/2000/svg\" height=\"24px\"viewBox=\"0 0 24 24\"\n",
              "     width=\"24px\">\n",
              "    <g>\n",
              "        <path d=\"M19 3H5c-1.1 0-2 .9-2 2v14c0 1.1.9 2 2 2h14c1.1 0 2-.9 2-2V5c0-1.1-.9-2-2-2zM9 17H7v-7h2v7zm4 0h-2V7h2v10zm4 0h-2v-4h2v4z\"/>\n",
              "    </g>\n",
              "</svg>\n",
              "  </button>\n",
              "\n",
              "<style>\n",
              "  .colab-df-quickchart {\n",
              "      --bg-color: #E8F0FE;\n",
              "      --fill-color: #1967D2;\n",
              "      --hover-bg-color: #E2EBFA;\n",
              "      --hover-fill-color: #174EA6;\n",
              "      --disabled-fill-color: #AAA;\n",
              "      --disabled-bg-color: #DDD;\n",
              "  }\n",
              "\n",
              "  [theme=dark] .colab-df-quickchart {\n",
              "      --bg-color: #3B4455;\n",
              "      --fill-color: #D2E3FC;\n",
              "      --hover-bg-color: #434B5C;\n",
              "      --hover-fill-color: #FFFFFF;\n",
              "      --disabled-bg-color: #3B4455;\n",
              "      --disabled-fill-color: #666;\n",
              "  }\n",
              "\n",
              "  .colab-df-quickchart {\n",
              "    background-color: var(--bg-color);\n",
              "    border: none;\n",
              "    border-radius: 50%;\n",
              "    cursor: pointer;\n",
              "    display: none;\n",
              "    fill: var(--fill-color);\n",
              "    height: 32px;\n",
              "    padding: 0;\n",
              "    width: 32px;\n",
              "  }\n",
              "\n",
              "  .colab-df-quickchart:hover {\n",
              "    background-color: var(--hover-bg-color);\n",
              "    box-shadow: 0 1px 2px rgba(60, 64, 67, 0.3), 0 1px 3px 1px rgba(60, 64, 67, 0.15);\n",
              "    fill: var(--button-hover-fill-color);\n",
              "  }\n",
              "\n",
              "  .colab-df-quickchart-complete:disabled,\n",
              "  .colab-df-quickchart-complete:disabled:hover {\n",
              "    background-color: var(--disabled-bg-color);\n",
              "    fill: var(--disabled-fill-color);\n",
              "    box-shadow: none;\n",
              "  }\n",
              "\n",
              "  .colab-df-spinner {\n",
              "    border: 2px solid var(--fill-color);\n",
              "    border-color: transparent;\n",
              "    border-bottom-color: var(--fill-color);\n",
              "    animation:\n",
              "      spin 1s steps(1) infinite;\n",
              "  }\n",
              "\n",
              "  @keyframes spin {\n",
              "    0% {\n",
              "      border-color: transparent;\n",
              "      border-bottom-color: var(--fill-color);\n",
              "      border-left-color: var(--fill-color);\n",
              "    }\n",
              "    20% {\n",
              "      border-color: transparent;\n",
              "      border-left-color: var(--fill-color);\n",
              "      border-top-color: var(--fill-color);\n",
              "    }\n",
              "    30% {\n",
              "      border-color: transparent;\n",
              "      border-left-color: var(--fill-color);\n",
              "      border-top-color: var(--fill-color);\n",
              "      border-right-color: var(--fill-color);\n",
              "    }\n",
              "    40% {\n",
              "      border-color: transparent;\n",
              "      border-right-color: var(--fill-color);\n",
              "      border-top-color: var(--fill-color);\n",
              "    }\n",
              "    60% {\n",
              "      border-color: transparent;\n",
              "      border-right-color: var(--fill-color);\n",
              "    }\n",
              "    80% {\n",
              "      border-color: transparent;\n",
              "      border-right-color: var(--fill-color);\n",
              "      border-bottom-color: var(--fill-color);\n",
              "    }\n",
              "    90% {\n",
              "      border-color: transparent;\n",
              "      border-bottom-color: var(--fill-color);\n",
              "    }\n",
              "  }\n",
              "</style>\n",
              "\n",
              "  <script>\n",
              "    async function quickchart(key) {\n",
              "      const quickchartButtonEl =\n",
              "        document.querySelector('#' + key + ' button');\n",
              "      quickchartButtonEl.disabled = true;  // To prevent multiple clicks.\n",
              "      quickchartButtonEl.classList.add('colab-df-spinner');\n",
              "      try {\n",
              "        const charts = await google.colab.kernel.invokeFunction(\n",
              "            'suggestCharts', [key], {});\n",
              "      } catch (error) {\n",
              "        console.error('Error during call to suggestCharts:', error);\n",
              "      }\n",
              "      quickchartButtonEl.classList.remove('colab-df-spinner');\n",
              "      quickchartButtonEl.classList.add('colab-df-quickchart-complete');\n",
              "    }\n",
              "    (() => {\n",
              "      let quickchartButtonEl =\n",
              "        document.querySelector('#df-3f32374c-7a57-416f-a5e2-6caa7127ca0b button');\n",
              "      quickchartButtonEl.style.display =\n",
              "        google.colab.kernel.accessAllowed ? 'block' : 'none';\n",
              "    })();\n",
              "  </script>\n",
              "</div>\n",
              "    </div>\n",
              "  </div>\n"
            ]
          },
          "metadata": {},
          "execution_count": 6
        }
      ]
    },
    {
      "cell_type": "code",
      "source": [
        "reviews_df.shape"
      ],
      "metadata": {
        "colab": {
          "base_uri": "https://localhost:8080/"
        },
        "id": "AM4qQsZTBivr",
        "outputId": "c363c0dd-918e-482d-a96b-bd421377104b"
      },
      "execution_count": 7,
      "outputs": [
        {
          "output_type": "execute_result",
          "data": {
            "text/plain": [
              "(1024, 10)"
            ]
          },
          "metadata": {},
          "execution_count": 7
        }
      ]
    },
    {
      "cell_type": "markdown",
      "source": [
        "## Basic Preprocessing"
      ],
      "metadata": {
        "id": "UFsncrOoCS-i"
      }
    },
    {
      "cell_type": "code",
      "source": [
        "reviews_df = reviews_df.dropna()"
      ],
      "metadata": {
        "id": "XltaIUC3CSMi"
      },
      "execution_count": 8,
      "outputs": []
    },
    {
      "cell_type": "code",
      "source": [
        "def text_preprocessing(text: str):\n",
        "    text = text.replace(\"\\n\", \" \")\n",
        "    text = text.replace(\"  \", \" \")\n",
        "    return text\n",
        "\n",
        "reviews_df[\"Review Text\"] = reviews_df[\"Review Text\"].apply(text_preprocessing)"
      ],
      "metadata": {
        "id": "z2SSWsIVCZuv"
      },
      "execution_count": 9,
      "outputs": []
    },
    {
      "cell_type": "code",
      "source": [
        "reviews_df = reviews_df.drop_duplicates(subset=[\"Review Text\"])"
      ],
      "metadata": {
        "id": "xXCIgLhsDZaT"
      },
      "execution_count": 10,
      "outputs": []
    },
    {
      "cell_type": "code",
      "source": [
        "reviews_df.shape"
      ],
      "metadata": {
        "colab": {
          "base_uri": "https://localhost:8080/"
        },
        "id": "kwTS6izSDegG",
        "outputId": "bb353aa2-ff20-4140-f134-c77935b626ae"
      },
      "execution_count": 11,
      "outputs": [
        {
          "output_type": "execute_result",
          "data": {
            "text/plain": [
              "(871, 10)"
            ]
          },
          "metadata": {},
          "execution_count": 11
        }
      ]
    },
    {
      "cell_type": "markdown",
      "source": [
        "### Split Into Chunks"
      ],
      "metadata": {
        "id": "McuhLYl32odq"
      }
    },
    {
      "cell_type": "markdown",
      "source": [
        "In general it is hard to feed long documents into the prompt, and it requires splitting into chunks in most cases. In this case, reviews are generally short enough to work with. Still, I will add splitting into chunks code for demonstration."
      ],
      "metadata": {
        "id": "Y3ZBrjj71yB6"
      }
    },
    {
      "cell_type": "code",
      "source": [
        "from langchain.text_splitter import RecursiveCharacterTextSplitter\n",
        "\n",
        "text_splitter = RecursiveCharacterTextSplitter(\n",
        "    separators = [\".\"],\n",
        "    chunk_size = 400,\n",
        "    chunk_overlap  = 0,\n",
        "    is_separator_regex = False,\n",
        ")\n",
        "\n",
        "def split_into_chunks(text):\n",
        "    docs = text_splitter.create_documents([text])\n",
        "    text_chunks = [doc.page_content for doc in docs]\n",
        "\n",
        "    return text_chunks"
      ],
      "metadata": {
        "id": "XuwSHmVJ0ZyP"
      },
      "execution_count": 12,
      "outputs": []
    },
    {
      "cell_type": "code",
      "source": [
        "reviews_df[\"text_chunk\"] = reviews_df[\"Review Text\"].apply(split_into_chunks)\n",
        "reviews_df = reviews_df.explode(\"text_chunk\")\n",
        "reviews_df[\"chunk_id\"] = reviews_df.groupby(level=0).cumcount()"
      ],
      "metadata": {
        "id": "Bpc53Rta0iqw"
      },
      "execution_count": 13,
      "outputs": []
    },
    {
      "cell_type": "code",
      "source": [
        "reviews_df.head(3)"
      ],
      "metadata": {
        "colab": {
          "base_uri": "https://localhost:8080/",
          "height": 213
        },
        "id": "OO71M28n2US_",
        "outputId": "8c5ad21e-5cde-45d5-e6c8-a73890783dc9"
      },
      "execution_count": 14,
      "outputs": [
        {
          "output_type": "execute_result",
          "data": {
            "text/plain": [
              "     Clothing ID  Age                   Title  \\\n",
              "69          1078   56    Great summer fabric!   \n",
              "90          1078   51  Sweet flattering dress   \n",
              "467         1078   61    Great sweater dress!   \n",
              "\n",
              "                                           Review Text  Rating  \\\n",
              "69   I really wanted this to work. alas, it had a s...       3   \n",
              "90   I love cute summer dresses and this one, espec...       4   \n",
              "467  Nice fit and flare style, not clingy at all. i...       5   \n",
              "\n",
              "     Recommended IND  Positive Feedback Count   Division Name Department Name  \\\n",
              "69                 0                        1  General Petite         Dresses   \n",
              "90                 1                        0  General Petite         Dresses   \n",
              "467                1                        1         General         Dresses   \n",
              "\n",
              "    Class Name                                         text_chunk  chunk_id  \n",
              "69     Dresses  I really wanted this to work. alas, it had a s...         0  \n",
              "90     Dresses  I love cute summer dresses and this one, espec...         0  \n",
              "467    Dresses  Nice fit and flare style, not clingy at all. i...         0  "
            ],
            "text/html": [
              "\n",
              "  <div id=\"df-8cba8013-21fd-4cbe-9036-31d0614a430b\" class=\"colab-df-container\">\n",
              "    <div>\n",
              "<style scoped>\n",
              "    .dataframe tbody tr th:only-of-type {\n",
              "        vertical-align: middle;\n",
              "    }\n",
              "\n",
              "    .dataframe tbody tr th {\n",
              "        vertical-align: top;\n",
              "    }\n",
              "\n",
              "    .dataframe thead th {\n",
              "        text-align: right;\n",
              "    }\n",
              "</style>\n",
              "<table border=\"1\" class=\"dataframe\">\n",
              "  <thead>\n",
              "    <tr style=\"text-align: right;\">\n",
              "      <th></th>\n",
              "      <th>Clothing ID</th>\n",
              "      <th>Age</th>\n",
              "      <th>Title</th>\n",
              "      <th>Review Text</th>\n",
              "      <th>Rating</th>\n",
              "      <th>Recommended IND</th>\n",
              "      <th>Positive Feedback Count</th>\n",
              "      <th>Division Name</th>\n",
              "      <th>Department Name</th>\n",
              "      <th>Class Name</th>\n",
              "      <th>text_chunk</th>\n",
              "      <th>chunk_id</th>\n",
              "    </tr>\n",
              "  </thead>\n",
              "  <tbody>\n",
              "    <tr>\n",
              "      <th>69</th>\n",
              "      <td>1078</td>\n",
              "      <td>56</td>\n",
              "      <td>Great summer fabric!</td>\n",
              "      <td>I really wanted this to work. alas, it had a s...</td>\n",
              "      <td>3</td>\n",
              "      <td>0</td>\n",
              "      <td>1</td>\n",
              "      <td>General Petite</td>\n",
              "      <td>Dresses</td>\n",
              "      <td>Dresses</td>\n",
              "      <td>I really wanted this to work. alas, it had a s...</td>\n",
              "      <td>0</td>\n",
              "    </tr>\n",
              "    <tr>\n",
              "      <th>90</th>\n",
              "      <td>1078</td>\n",
              "      <td>51</td>\n",
              "      <td>Sweet flattering dress</td>\n",
              "      <td>I love cute summer dresses and this one, espec...</td>\n",
              "      <td>4</td>\n",
              "      <td>1</td>\n",
              "      <td>0</td>\n",
              "      <td>General Petite</td>\n",
              "      <td>Dresses</td>\n",
              "      <td>Dresses</td>\n",
              "      <td>I love cute summer dresses and this one, espec...</td>\n",
              "      <td>0</td>\n",
              "    </tr>\n",
              "    <tr>\n",
              "      <th>467</th>\n",
              "      <td>1078</td>\n",
              "      <td>61</td>\n",
              "      <td>Great sweater dress!</td>\n",
              "      <td>Nice fit and flare style, not clingy at all. i...</td>\n",
              "      <td>5</td>\n",
              "      <td>1</td>\n",
              "      <td>1</td>\n",
              "      <td>General</td>\n",
              "      <td>Dresses</td>\n",
              "      <td>Dresses</td>\n",
              "      <td>Nice fit and flare style, not clingy at all. i...</td>\n",
              "      <td>0</td>\n",
              "    </tr>\n",
              "  </tbody>\n",
              "</table>\n",
              "</div>\n",
              "    <div class=\"colab-df-buttons\">\n",
              "\n",
              "  <div class=\"colab-df-container\">\n",
              "    <button class=\"colab-df-convert\" onclick=\"convertToInteractive('df-8cba8013-21fd-4cbe-9036-31d0614a430b')\"\n",
              "            title=\"Convert this dataframe to an interactive table.\"\n",
              "            style=\"display:none;\">\n",
              "\n",
              "  <svg xmlns=\"http://www.w3.org/2000/svg\" height=\"24px\" viewBox=\"0 -960 960 960\">\n",
              "    <path d=\"M120-120v-720h720v720H120Zm60-500h600v-160H180v160Zm220 220h160v-160H400v160Zm0 220h160v-160H400v160ZM180-400h160v-160H180v160Zm440 0h160v-160H620v160ZM180-180h160v-160H180v160Zm440 0h160v-160H620v160Z\"/>\n",
              "  </svg>\n",
              "    </button>\n",
              "\n",
              "  <style>\n",
              "    .colab-df-container {\n",
              "      display:flex;\n",
              "      gap: 12px;\n",
              "    }\n",
              "\n",
              "    .colab-df-convert {\n",
              "      background-color: #E8F0FE;\n",
              "      border: none;\n",
              "      border-radius: 50%;\n",
              "      cursor: pointer;\n",
              "      display: none;\n",
              "      fill: #1967D2;\n",
              "      height: 32px;\n",
              "      padding: 0 0 0 0;\n",
              "      width: 32px;\n",
              "    }\n",
              "\n",
              "    .colab-df-convert:hover {\n",
              "      background-color: #E2EBFA;\n",
              "      box-shadow: 0px 1px 2px rgba(60, 64, 67, 0.3), 0px 1px 3px 1px rgba(60, 64, 67, 0.15);\n",
              "      fill: #174EA6;\n",
              "    }\n",
              "\n",
              "    .colab-df-buttons div {\n",
              "      margin-bottom: 4px;\n",
              "    }\n",
              "\n",
              "    [theme=dark] .colab-df-convert {\n",
              "      background-color: #3B4455;\n",
              "      fill: #D2E3FC;\n",
              "    }\n",
              "\n",
              "    [theme=dark] .colab-df-convert:hover {\n",
              "      background-color: #434B5C;\n",
              "      box-shadow: 0px 1px 3px 1px rgba(0, 0, 0, 0.15);\n",
              "      filter: drop-shadow(0px 1px 2px rgba(0, 0, 0, 0.3));\n",
              "      fill: #FFFFFF;\n",
              "    }\n",
              "  </style>\n",
              "\n",
              "    <script>\n",
              "      const buttonEl =\n",
              "        document.querySelector('#df-8cba8013-21fd-4cbe-9036-31d0614a430b button.colab-df-convert');\n",
              "      buttonEl.style.display =\n",
              "        google.colab.kernel.accessAllowed ? 'block' : 'none';\n",
              "\n",
              "      async function convertToInteractive(key) {\n",
              "        const element = document.querySelector('#df-8cba8013-21fd-4cbe-9036-31d0614a430b');\n",
              "        const dataTable =\n",
              "          await google.colab.kernel.invokeFunction('convertToInteractive',\n",
              "                                                    [key], {});\n",
              "        if (!dataTable) return;\n",
              "\n",
              "        const docLinkHtml = 'Like what you see? Visit the ' +\n",
              "          '<a target=\"_blank\" href=https://colab.research.google.com/notebooks/data_table.ipynb>data table notebook</a>'\n",
              "          + ' to learn more about interactive tables.';\n",
              "        element.innerHTML = '';\n",
              "        dataTable['output_type'] = 'display_data';\n",
              "        await google.colab.output.renderOutput(dataTable, element);\n",
              "        const docLink = document.createElement('div');\n",
              "        docLink.innerHTML = docLinkHtml;\n",
              "        element.appendChild(docLink);\n",
              "      }\n",
              "    </script>\n",
              "  </div>\n",
              "\n",
              "\n",
              "<div id=\"df-be83c648-7f1b-4010-9549-d57373de84a1\">\n",
              "  <button class=\"colab-df-quickchart\" onclick=\"quickchart('df-be83c648-7f1b-4010-9549-d57373de84a1')\"\n",
              "            title=\"Suggest charts\"\n",
              "            style=\"display:none;\">\n",
              "\n",
              "<svg xmlns=\"http://www.w3.org/2000/svg\" height=\"24px\"viewBox=\"0 0 24 24\"\n",
              "     width=\"24px\">\n",
              "    <g>\n",
              "        <path d=\"M19 3H5c-1.1 0-2 .9-2 2v14c0 1.1.9 2 2 2h14c1.1 0 2-.9 2-2V5c0-1.1-.9-2-2-2zM9 17H7v-7h2v7zm4 0h-2V7h2v10zm4 0h-2v-4h2v4z\"/>\n",
              "    </g>\n",
              "</svg>\n",
              "  </button>\n",
              "\n",
              "<style>\n",
              "  .colab-df-quickchart {\n",
              "      --bg-color: #E8F0FE;\n",
              "      --fill-color: #1967D2;\n",
              "      --hover-bg-color: #E2EBFA;\n",
              "      --hover-fill-color: #174EA6;\n",
              "      --disabled-fill-color: #AAA;\n",
              "      --disabled-bg-color: #DDD;\n",
              "  }\n",
              "\n",
              "  [theme=dark] .colab-df-quickchart {\n",
              "      --bg-color: #3B4455;\n",
              "      --fill-color: #D2E3FC;\n",
              "      --hover-bg-color: #434B5C;\n",
              "      --hover-fill-color: #FFFFFF;\n",
              "      --disabled-bg-color: #3B4455;\n",
              "      --disabled-fill-color: #666;\n",
              "  }\n",
              "\n",
              "  .colab-df-quickchart {\n",
              "    background-color: var(--bg-color);\n",
              "    border: none;\n",
              "    border-radius: 50%;\n",
              "    cursor: pointer;\n",
              "    display: none;\n",
              "    fill: var(--fill-color);\n",
              "    height: 32px;\n",
              "    padding: 0;\n",
              "    width: 32px;\n",
              "  }\n",
              "\n",
              "  .colab-df-quickchart:hover {\n",
              "    background-color: var(--hover-bg-color);\n",
              "    box-shadow: 0 1px 2px rgba(60, 64, 67, 0.3), 0 1px 3px 1px rgba(60, 64, 67, 0.15);\n",
              "    fill: var(--button-hover-fill-color);\n",
              "  }\n",
              "\n",
              "  .colab-df-quickchart-complete:disabled,\n",
              "  .colab-df-quickchart-complete:disabled:hover {\n",
              "    background-color: var(--disabled-bg-color);\n",
              "    fill: var(--disabled-fill-color);\n",
              "    box-shadow: none;\n",
              "  }\n",
              "\n",
              "  .colab-df-spinner {\n",
              "    border: 2px solid var(--fill-color);\n",
              "    border-color: transparent;\n",
              "    border-bottom-color: var(--fill-color);\n",
              "    animation:\n",
              "      spin 1s steps(1) infinite;\n",
              "  }\n",
              "\n",
              "  @keyframes spin {\n",
              "    0% {\n",
              "      border-color: transparent;\n",
              "      border-bottom-color: var(--fill-color);\n",
              "      border-left-color: var(--fill-color);\n",
              "    }\n",
              "    20% {\n",
              "      border-color: transparent;\n",
              "      border-left-color: var(--fill-color);\n",
              "      border-top-color: var(--fill-color);\n",
              "    }\n",
              "    30% {\n",
              "      border-color: transparent;\n",
              "      border-left-color: var(--fill-color);\n",
              "      border-top-color: var(--fill-color);\n",
              "      border-right-color: var(--fill-color);\n",
              "    }\n",
              "    40% {\n",
              "      border-color: transparent;\n",
              "      border-right-color: var(--fill-color);\n",
              "      border-top-color: var(--fill-color);\n",
              "    }\n",
              "    60% {\n",
              "      border-color: transparent;\n",
              "      border-right-color: var(--fill-color);\n",
              "    }\n",
              "    80% {\n",
              "      border-color: transparent;\n",
              "      border-right-color: var(--fill-color);\n",
              "      border-bottom-color: var(--fill-color);\n",
              "    }\n",
              "    90% {\n",
              "      border-color: transparent;\n",
              "      border-bottom-color: var(--fill-color);\n",
              "    }\n",
              "  }\n",
              "</style>\n",
              "\n",
              "  <script>\n",
              "    async function quickchart(key) {\n",
              "      const quickchartButtonEl =\n",
              "        document.querySelector('#' + key + ' button');\n",
              "      quickchartButtonEl.disabled = true;  // To prevent multiple clicks.\n",
              "      quickchartButtonEl.classList.add('colab-df-spinner');\n",
              "      try {\n",
              "        const charts = await google.colab.kernel.invokeFunction(\n",
              "            'suggestCharts', [key], {});\n",
              "      } catch (error) {\n",
              "        console.error('Error during call to suggestCharts:', error);\n",
              "      }\n",
              "      quickchartButtonEl.classList.remove('colab-df-spinner');\n",
              "      quickchartButtonEl.classList.add('colab-df-quickchart-complete');\n",
              "    }\n",
              "    (() => {\n",
              "      let quickchartButtonEl =\n",
              "        document.querySelector('#df-be83c648-7f1b-4010-9549-d57373de84a1 button');\n",
              "      quickchartButtonEl.style.display =\n",
              "        google.colab.kernel.accessAllowed ? 'block' : 'none';\n",
              "    })();\n",
              "  </script>\n",
              "</div>\n",
              "    </div>\n",
              "  </div>\n"
            ]
          },
          "metadata": {},
          "execution_count": 14
        }
      ]
    },
    {
      "cell_type": "code",
      "source": [
        "reviews_df.shape"
      ],
      "metadata": {
        "colab": {
          "base_uri": "https://localhost:8080/"
        },
        "id": "qWDsFkmT22Ob",
        "outputId": "74609c5b-f3a2-4812-e9d4-444fb18d84c1"
      },
      "execution_count": 15,
      "outputs": [
        {
          "output_type": "execute_result",
          "data": {
            "text/plain": [
              "(1206, 12)"
            ]
          },
          "metadata": {},
          "execution_count": 15
        }
      ]
    },
    {
      "cell_type": "markdown",
      "source": [
        "Know we have the `text_chunk` column with a short string."
      ],
      "metadata": {
        "id": "JwFFi_h026EB"
      }
    },
    {
      "cell_type": "markdown",
      "source": [
        "## Creating Document Vectors"
      ],
      "metadata": {
        "id": "IEku-GOBwvC3"
      }
    },
    {
      "cell_type": "markdown",
      "source": [
        "There are several text embedding methods:\n",
        "- OpenAI embedding service (requires api credentials)\n",
        "- SBert (runs locally)\n",
        "- Google VertexAI Embedding Service (requires api credentials)\n",
        "- Word2Vec (Traditional baseline)\n",
        "- ...\n",
        "\n",
        "OpanAI would get the best results, but SBert models are also sufficient in most of the cases and it is free."
      ],
      "metadata": {
        "id": "biIn1bGcw0PK"
      }
    },
    {
      "cell_type": "code",
      "source": [
        "!pip install -qU sentence-transformers"
      ],
      "metadata": {
        "id": "rHphP7vIxLP3"
      },
      "execution_count": 16,
      "outputs": []
    },
    {
      "cell_type": "markdown",
      "source": [
        "There are several open-sourced embedding models. Check here: https://www.sbert.net/docs/pretrained_models.html"
      ],
      "metadata": {
        "id": "l9hbHjc5xn9s"
      }
    },
    {
      "cell_type": "code",
      "source": [
        "from sentence_transformers import SentenceTransformer"
      ],
      "metadata": {
        "id": "-sf3HGu5xvtz"
      },
      "execution_count": 17,
      "outputs": []
    },
    {
      "cell_type": "code",
      "source": [
        "model_name = \"all-mpnet-base-v2\"\n",
        "model = SentenceTransformer(model_name)"
      ],
      "metadata": {
        "id": "gwMU_wpKxml7"
      },
      "execution_count": 18,
      "outputs": []
    },
    {
      "cell_type": "markdown",
      "source": [
        "We could store those vectors in a vector database such as Qdrant, ElasticSearch, Chromadb, or in a local folder."
      ],
      "metadata": {
        "id": "0lpTQk_wyDP2"
      }
    },
    {
      "cell_type": "code",
      "source": [
        "text_chunks = reviews_df[\"text_chunk\"].tolist()\n",
        "text_chunk_vectors = model.encode(text_chunks, show_progress_bar=True)"
      ],
      "metadata": {
        "colab": {
          "base_uri": "https://localhost:8080/",
          "height": 49,
          "referenced_widgets": [
            "a4a67fd60e914ff48aaf4e866b29ed53",
            "5e1c0890ea4448359260bb66f87f1a46",
            "01c2e3353599467ab0593f6d377634c1",
            "bafd00eaae8f4fc3b9726cf30a8342ea",
            "5ed2668ef5df45b782de451936ef65dd",
            "e978018e26c74329bc1a69231c3b77d2",
            "af41274da7244ca79aa5ddf59763abde",
            "c0291c63117d414db9875005dc2cfdb4",
            "e08c374d2b1c4fdcb1cd33b42619f3c8",
            "b5f8ef46f10a46bfb94bcefa03ac9f37",
            "92d0d59012754efa97287f791138742a"
          ]
        },
        "id": "CxnjheXazaio",
        "outputId": "dac442f8-23c8-4601-85bd-328be81a194c"
      },
      "execution_count": 19,
      "outputs": [
        {
          "output_type": "display_data",
          "data": {
            "text/plain": [
              "Batches:   0%|          | 0/38 [00:00<?, ?it/s]"
            ],
            "application/vnd.jupyter.widget-view+json": {
              "version_major": 2,
              "version_minor": 0,
              "model_id": "a4a67fd60e914ff48aaf4e866b29ed53"
            }
          },
          "metadata": {}
        }
      ]
    },
    {
      "cell_type": "code",
      "source": [
        "text_chunk_vectors.shape"
      ],
      "metadata": {
        "colab": {
          "base_uri": "https://localhost:8080/"
        },
        "id": "OIbIxMIVyvgO",
        "outputId": "c071675b-67fe-4449-e1a5-0cad510201e8"
      },
      "execution_count": 20,
      "outputs": [
        {
          "output_type": "execute_result",
          "data": {
            "text/plain": [
              "(1206, 768)"
            ]
          },
          "metadata": {},
          "execution_count": 20
        }
      ]
    },
    {
      "cell_type": "markdown",
      "source": [
        "## Retrieve Relevant Documents"
      ],
      "metadata": {
        "id": "B2F9ebcOyfcV"
      }
    },
    {
      "cell_type": "markdown",
      "source": [
        "At inference time, we need to vectorize the input user query, and find the most k similar documents from our vector database."
      ],
      "metadata": {
        "id": "A_npBAlnykDp"
      }
    },
    {
      "cell_type": "code",
      "source": [
        "import numpy as np\n",
        "from sklearn.metrics.pairwise import cosine_similarity\n",
        "\n",
        "def retrieve_relevant_documents(query, text_chunk_vectors, k):\n",
        "    query_embedding = model.encode(query)\n",
        "\n",
        "    # Calculate cosine similarity between the query and each document\n",
        "    similarities = cosine_similarity([query_embedding], text_chunk_vectors)[0]\n",
        "\n",
        "    # Get indices of the top k most similar documents\n",
        "    top_k_indices = np.argsort(similarities)[::-1][:k]\n",
        "\n",
        "    # Retrieve the relevant documents\n",
        "    return reviews_df.iloc[top_k_indices]"
      ],
      "metadata": {
        "id": "qp6HEnUKyAG0"
      },
      "execution_count": 21,
      "outputs": []
    },
    {
      "cell_type": "markdown",
      "source": [
        "Let's make a sanity check:"
      ],
      "metadata": {
        "id": "KkreYyVKy_ck"
      }
    },
    {
      "cell_type": "code",
      "source": [
        "relevant_rows = retrieve_relevant_documents(\"Fabric quality\", text_chunk_vectors, 5)"
      ],
      "metadata": {
        "id": "nmlsXsF5y-uJ"
      },
      "execution_count": 22,
      "outputs": []
    },
    {
      "cell_type": "code",
      "source": [
        "relevant_rows"
      ],
      "metadata": {
        "colab": {
          "base_uri": "https://localhost:8080/",
          "height": 310
        },
        "id": "1H-V1gogzEm2",
        "outputId": "9f8fb42d-9094-4df9-ba7a-96d8afa2b777"
      },
      "execution_count": 23,
      "outputs": [
        {
          "output_type": "execute_result",
          "data": {
            "text/plain": [
              "       Clothing ID  Age                        Title  \\\n",
              "14392         1078   34      Beautiful but runs tiny   \n",
              "23460         1078   34             Such high hopes!   \n",
              "7843          1078   46  Another winner from floreat   \n",
              "14412         1078   43   Wrinkly cotton, nice shape   \n",
              "6601          1078   39                Into the west   \n",
              "\n",
              "                                             Review Text  Rating  \\\n",
              "14392  This dress is my first retailer purchase in se...       4   \n",
              "23460  I purchased this for a very good price and i t...       3   \n",
              "7843   I found this dress to be a perfect flowy fit f...       5   \n",
              "14412  While the cut, drape, and shape of this dress ...       3   \n",
              "6601   Totally out of my style range but am totally e...       5   \n",
              "\n",
              "       Recommended IND  Positive Feedback Count   Division Name  \\\n",
              "14392                1                        8  General Petite   \n",
              "23460                0                        0         General   \n",
              "7843                 1                        9  General Petite   \n",
              "14412                1                        0  General Petite   \n",
              "6601                 1                        3         General   \n",
              "\n",
              "      Department Name Class Name  \\\n",
              "14392         Dresses    Dresses   \n",
              "23460         Dresses    Dresses   \n",
              "7843          Dresses    Dresses   \n",
              "14412         Dresses    Dresses   \n",
              "6601          Dresses    Dresses   \n",
              "\n",
              "                                              text_chunk  chunk_id  \n",
              "14392  . the cotton is nice - glad to see retailer go...         1  \n",
              "23460  I purchased this for a very good price and i t...         0  \n",
              "7843   . personally do not think it has an abundance ...         1  \n",
              "14412  While the cut, drape, and shape of this dress ...         0  \n",
              "6601   . if you have tried the marvelous silk santee ...         1  "
            ],
            "text/html": [
              "\n",
              "  <div id=\"df-41ffffac-608c-4adb-8967-c7e8afc73070\" class=\"colab-df-container\">\n",
              "    <div>\n",
              "<style scoped>\n",
              "    .dataframe tbody tr th:only-of-type {\n",
              "        vertical-align: middle;\n",
              "    }\n",
              "\n",
              "    .dataframe tbody tr th {\n",
              "        vertical-align: top;\n",
              "    }\n",
              "\n",
              "    .dataframe thead th {\n",
              "        text-align: right;\n",
              "    }\n",
              "</style>\n",
              "<table border=\"1\" class=\"dataframe\">\n",
              "  <thead>\n",
              "    <tr style=\"text-align: right;\">\n",
              "      <th></th>\n",
              "      <th>Clothing ID</th>\n",
              "      <th>Age</th>\n",
              "      <th>Title</th>\n",
              "      <th>Review Text</th>\n",
              "      <th>Rating</th>\n",
              "      <th>Recommended IND</th>\n",
              "      <th>Positive Feedback Count</th>\n",
              "      <th>Division Name</th>\n",
              "      <th>Department Name</th>\n",
              "      <th>Class Name</th>\n",
              "      <th>text_chunk</th>\n",
              "      <th>chunk_id</th>\n",
              "    </tr>\n",
              "  </thead>\n",
              "  <tbody>\n",
              "    <tr>\n",
              "      <th>14392</th>\n",
              "      <td>1078</td>\n",
              "      <td>34</td>\n",
              "      <td>Beautiful but runs tiny</td>\n",
              "      <td>This dress is my first retailer purchase in se...</td>\n",
              "      <td>4</td>\n",
              "      <td>1</td>\n",
              "      <td>8</td>\n",
              "      <td>General Petite</td>\n",
              "      <td>Dresses</td>\n",
              "      <td>Dresses</td>\n",
              "      <td>. the cotton is nice - glad to see retailer go...</td>\n",
              "      <td>1</td>\n",
              "    </tr>\n",
              "    <tr>\n",
              "      <th>23460</th>\n",
              "      <td>1078</td>\n",
              "      <td>34</td>\n",
              "      <td>Such high hopes!</td>\n",
              "      <td>I purchased this for a very good price and i t...</td>\n",
              "      <td>3</td>\n",
              "      <td>0</td>\n",
              "      <td>0</td>\n",
              "      <td>General</td>\n",
              "      <td>Dresses</td>\n",
              "      <td>Dresses</td>\n",
              "      <td>I purchased this for a very good price and i t...</td>\n",
              "      <td>0</td>\n",
              "    </tr>\n",
              "    <tr>\n",
              "      <th>7843</th>\n",
              "      <td>1078</td>\n",
              "      <td>46</td>\n",
              "      <td>Another winner from floreat</td>\n",
              "      <td>I found this dress to be a perfect flowy fit f...</td>\n",
              "      <td>5</td>\n",
              "      <td>1</td>\n",
              "      <td>9</td>\n",
              "      <td>General Petite</td>\n",
              "      <td>Dresses</td>\n",
              "      <td>Dresses</td>\n",
              "      <td>. personally do not think it has an abundance ...</td>\n",
              "      <td>1</td>\n",
              "    </tr>\n",
              "    <tr>\n",
              "      <th>14412</th>\n",
              "      <td>1078</td>\n",
              "      <td>43</td>\n",
              "      <td>Wrinkly cotton, nice shape</td>\n",
              "      <td>While the cut, drape, and shape of this dress ...</td>\n",
              "      <td>3</td>\n",
              "      <td>1</td>\n",
              "      <td>0</td>\n",
              "      <td>General Petite</td>\n",
              "      <td>Dresses</td>\n",
              "      <td>Dresses</td>\n",
              "      <td>While the cut, drape, and shape of this dress ...</td>\n",
              "      <td>0</td>\n",
              "    </tr>\n",
              "    <tr>\n",
              "      <th>6601</th>\n",
              "      <td>1078</td>\n",
              "      <td>39</td>\n",
              "      <td>Into the west</td>\n",
              "      <td>Totally out of my style range but am totally e...</td>\n",
              "      <td>5</td>\n",
              "      <td>1</td>\n",
              "      <td>3</td>\n",
              "      <td>General</td>\n",
              "      <td>Dresses</td>\n",
              "      <td>Dresses</td>\n",
              "      <td>. if you have tried the marvelous silk santee ...</td>\n",
              "      <td>1</td>\n",
              "    </tr>\n",
              "  </tbody>\n",
              "</table>\n",
              "</div>\n",
              "    <div class=\"colab-df-buttons\">\n",
              "\n",
              "  <div class=\"colab-df-container\">\n",
              "    <button class=\"colab-df-convert\" onclick=\"convertToInteractive('df-41ffffac-608c-4adb-8967-c7e8afc73070')\"\n",
              "            title=\"Convert this dataframe to an interactive table.\"\n",
              "            style=\"display:none;\">\n",
              "\n",
              "  <svg xmlns=\"http://www.w3.org/2000/svg\" height=\"24px\" viewBox=\"0 -960 960 960\">\n",
              "    <path d=\"M120-120v-720h720v720H120Zm60-500h600v-160H180v160Zm220 220h160v-160H400v160Zm0 220h160v-160H400v160ZM180-400h160v-160H180v160Zm440 0h160v-160H620v160ZM180-180h160v-160H180v160Zm440 0h160v-160H620v160Z\"/>\n",
              "  </svg>\n",
              "    </button>\n",
              "\n",
              "  <style>\n",
              "    .colab-df-container {\n",
              "      display:flex;\n",
              "      gap: 12px;\n",
              "    }\n",
              "\n",
              "    .colab-df-convert {\n",
              "      background-color: #E8F0FE;\n",
              "      border: none;\n",
              "      border-radius: 50%;\n",
              "      cursor: pointer;\n",
              "      display: none;\n",
              "      fill: #1967D2;\n",
              "      height: 32px;\n",
              "      padding: 0 0 0 0;\n",
              "      width: 32px;\n",
              "    }\n",
              "\n",
              "    .colab-df-convert:hover {\n",
              "      background-color: #E2EBFA;\n",
              "      box-shadow: 0px 1px 2px rgba(60, 64, 67, 0.3), 0px 1px 3px 1px rgba(60, 64, 67, 0.15);\n",
              "      fill: #174EA6;\n",
              "    }\n",
              "\n",
              "    .colab-df-buttons div {\n",
              "      margin-bottom: 4px;\n",
              "    }\n",
              "\n",
              "    [theme=dark] .colab-df-convert {\n",
              "      background-color: #3B4455;\n",
              "      fill: #D2E3FC;\n",
              "    }\n",
              "\n",
              "    [theme=dark] .colab-df-convert:hover {\n",
              "      background-color: #434B5C;\n",
              "      box-shadow: 0px 1px 3px 1px rgba(0, 0, 0, 0.15);\n",
              "      filter: drop-shadow(0px 1px 2px rgba(0, 0, 0, 0.3));\n",
              "      fill: #FFFFFF;\n",
              "    }\n",
              "  </style>\n",
              "\n",
              "    <script>\n",
              "      const buttonEl =\n",
              "        document.querySelector('#df-41ffffac-608c-4adb-8967-c7e8afc73070 button.colab-df-convert');\n",
              "      buttonEl.style.display =\n",
              "        google.colab.kernel.accessAllowed ? 'block' : 'none';\n",
              "\n",
              "      async function convertToInteractive(key) {\n",
              "        const element = document.querySelector('#df-41ffffac-608c-4adb-8967-c7e8afc73070');\n",
              "        const dataTable =\n",
              "          await google.colab.kernel.invokeFunction('convertToInteractive',\n",
              "                                                    [key], {});\n",
              "        if (!dataTable) return;\n",
              "\n",
              "        const docLinkHtml = 'Like what you see? Visit the ' +\n",
              "          '<a target=\"_blank\" href=https://colab.research.google.com/notebooks/data_table.ipynb>data table notebook</a>'\n",
              "          + ' to learn more about interactive tables.';\n",
              "        element.innerHTML = '';\n",
              "        dataTable['output_type'] = 'display_data';\n",
              "        await google.colab.output.renderOutput(dataTable, element);\n",
              "        const docLink = document.createElement('div');\n",
              "        docLink.innerHTML = docLinkHtml;\n",
              "        element.appendChild(docLink);\n",
              "      }\n",
              "    </script>\n",
              "  </div>\n",
              "\n",
              "\n",
              "<div id=\"df-260ab0dd-e34f-47b7-9fc2-e9621ae55cf2\">\n",
              "  <button class=\"colab-df-quickchart\" onclick=\"quickchart('df-260ab0dd-e34f-47b7-9fc2-e9621ae55cf2')\"\n",
              "            title=\"Suggest charts\"\n",
              "            style=\"display:none;\">\n",
              "\n",
              "<svg xmlns=\"http://www.w3.org/2000/svg\" height=\"24px\"viewBox=\"0 0 24 24\"\n",
              "     width=\"24px\">\n",
              "    <g>\n",
              "        <path d=\"M19 3H5c-1.1 0-2 .9-2 2v14c0 1.1.9 2 2 2h14c1.1 0 2-.9 2-2V5c0-1.1-.9-2-2-2zM9 17H7v-7h2v7zm4 0h-2V7h2v10zm4 0h-2v-4h2v4z\"/>\n",
              "    </g>\n",
              "</svg>\n",
              "  </button>\n",
              "\n",
              "<style>\n",
              "  .colab-df-quickchart {\n",
              "      --bg-color: #E8F0FE;\n",
              "      --fill-color: #1967D2;\n",
              "      --hover-bg-color: #E2EBFA;\n",
              "      --hover-fill-color: #174EA6;\n",
              "      --disabled-fill-color: #AAA;\n",
              "      --disabled-bg-color: #DDD;\n",
              "  }\n",
              "\n",
              "  [theme=dark] .colab-df-quickchart {\n",
              "      --bg-color: #3B4455;\n",
              "      --fill-color: #D2E3FC;\n",
              "      --hover-bg-color: #434B5C;\n",
              "      --hover-fill-color: #FFFFFF;\n",
              "      --disabled-bg-color: #3B4455;\n",
              "      --disabled-fill-color: #666;\n",
              "  }\n",
              "\n",
              "  .colab-df-quickchart {\n",
              "    background-color: var(--bg-color);\n",
              "    border: none;\n",
              "    border-radius: 50%;\n",
              "    cursor: pointer;\n",
              "    display: none;\n",
              "    fill: var(--fill-color);\n",
              "    height: 32px;\n",
              "    padding: 0;\n",
              "    width: 32px;\n",
              "  }\n",
              "\n",
              "  .colab-df-quickchart:hover {\n",
              "    background-color: var(--hover-bg-color);\n",
              "    box-shadow: 0 1px 2px rgba(60, 64, 67, 0.3), 0 1px 3px 1px rgba(60, 64, 67, 0.15);\n",
              "    fill: var(--button-hover-fill-color);\n",
              "  }\n",
              "\n",
              "  .colab-df-quickchart-complete:disabled,\n",
              "  .colab-df-quickchart-complete:disabled:hover {\n",
              "    background-color: var(--disabled-bg-color);\n",
              "    fill: var(--disabled-fill-color);\n",
              "    box-shadow: none;\n",
              "  }\n",
              "\n",
              "  .colab-df-spinner {\n",
              "    border: 2px solid var(--fill-color);\n",
              "    border-color: transparent;\n",
              "    border-bottom-color: var(--fill-color);\n",
              "    animation:\n",
              "      spin 1s steps(1) infinite;\n",
              "  }\n",
              "\n",
              "  @keyframes spin {\n",
              "    0% {\n",
              "      border-color: transparent;\n",
              "      border-bottom-color: var(--fill-color);\n",
              "      border-left-color: var(--fill-color);\n",
              "    }\n",
              "    20% {\n",
              "      border-color: transparent;\n",
              "      border-left-color: var(--fill-color);\n",
              "      border-top-color: var(--fill-color);\n",
              "    }\n",
              "    30% {\n",
              "      border-color: transparent;\n",
              "      border-left-color: var(--fill-color);\n",
              "      border-top-color: var(--fill-color);\n",
              "      border-right-color: var(--fill-color);\n",
              "    }\n",
              "    40% {\n",
              "      border-color: transparent;\n",
              "      border-right-color: var(--fill-color);\n",
              "      border-top-color: var(--fill-color);\n",
              "    }\n",
              "    60% {\n",
              "      border-color: transparent;\n",
              "      border-right-color: var(--fill-color);\n",
              "    }\n",
              "    80% {\n",
              "      border-color: transparent;\n",
              "      border-right-color: var(--fill-color);\n",
              "      border-bottom-color: var(--fill-color);\n",
              "    }\n",
              "    90% {\n",
              "      border-color: transparent;\n",
              "      border-bottom-color: var(--fill-color);\n",
              "    }\n",
              "  }\n",
              "</style>\n",
              "\n",
              "  <script>\n",
              "    async function quickchart(key) {\n",
              "      const quickchartButtonEl =\n",
              "        document.querySelector('#' + key + ' button');\n",
              "      quickchartButtonEl.disabled = true;  // To prevent multiple clicks.\n",
              "      quickchartButtonEl.classList.add('colab-df-spinner');\n",
              "      try {\n",
              "        const charts = await google.colab.kernel.invokeFunction(\n",
              "            'suggestCharts', [key], {});\n",
              "      } catch (error) {\n",
              "        console.error('Error during call to suggestCharts:', error);\n",
              "      }\n",
              "      quickchartButtonEl.classList.remove('colab-df-spinner');\n",
              "      quickchartButtonEl.classList.add('colab-df-quickchart-complete');\n",
              "    }\n",
              "    (() => {\n",
              "      let quickchartButtonEl =\n",
              "        document.querySelector('#df-260ab0dd-e34f-47b7-9fc2-e9621ae55cf2 button');\n",
              "      quickchartButtonEl.style.display =\n",
              "        google.colab.kernel.accessAllowed ? 'block' : 'none';\n",
              "    })();\n",
              "  </script>\n",
              "</div>\n",
              "    </div>\n",
              "  </div>\n"
            ]
          },
          "metadata": {},
          "execution_count": 23
        }
      ]
    },
    {
      "cell_type": "code",
      "source": [
        "relevant_rows[\"text_chunk\"].tolist()"
      ],
      "metadata": {
        "colab": {
          "base_uri": "https://localhost:8080/"
        },
        "id": "DW0GebO03kT3",
        "outputId": "35854888-9578-49d8-9178-d3e4b6a64ad8"
      },
      "execution_count": 24,
      "outputs": [
        {
          "output_type": "execute_result",
          "data": {
            "text/plain": [
              "['. the cotton is nice - glad to see retailer go back to offering natural fabrics!\\r \\r very pretty color, and print.',\n",
              " \"I purchased this for a very good price and i typically love maeve... should have been a win-win. the fabric is thin and slinky in the most unfortunate way. it made finding appropriate undergarments very difficult. i had to add a slip (that helped) and figured that since i'm losing weight, it would look better when i'm down a few more pounds\",\n",
              " '. personally do not think it has an abundance of fabric. in fact, it is a lot less roomy than a lot of others in this cut due to the embroidery',\n",
              " \"While the cut, drape, and shape of this dress are very attractive, seeing the fabric in person was disappointing to me. it's clearly well-made and there are abundant high-quality details. however, the combination of a large-ish pattern and the wrinkly, thin cotton still felt kind of limp and cheap. i sent it back.\",\n",
              " '. if you have tried the marvelous silk santee swing dress, the escalante has the same amount of fabric that reviewer either love or hate. i']"
            ]
          },
          "metadata": {},
          "execution_count": 24
        }
      ]
    },
    {
      "cell_type": "markdown",
      "source": [
        "## Prompt Engineering"
      ],
      "metadata": {
        "id": "gr5WzAjR4DO2"
      }
    },
    {
      "cell_type": "markdown",
      "source": [
        "Know, we need to create an augmented prompt to feed into the chat model."
      ],
      "metadata": {
        "id": "H0WKN4gm4HHz"
      }
    },
    {
      "cell_type": "code",
      "source": [
        "prompt_template = \"\"\"\n",
        "You are a useful chat assistant. I will give you several product reviews in an e-commerce platform for a specific product.\n",
        "I want you to consider different opinions in the information I give you, and create a short but informative answer for user's query.\n",
        "If there is no information to answer the question, then don't answer.\n",
        "\n",
        "Here is the documents:\n",
        "<documents>\n",
        "\n",
        "User query: <query>\n",
        "\"\"\"\n",
        "\n",
        "def create_prompt(query, k=5):\n",
        "    # get relevant information about the query, and append this information into the prompt template\n",
        "    # you can get any information you like.\n",
        "    relevant_rows = retrieve_relevant_documents(query, text_chunk_vectors, k)\n",
        "    text_chunks = relevant_rows[\"text_chunk\"].tolist()\n",
        "    text_chunks_string = \"\\n\".join(text_chunks)\n",
        "\n",
        "    prompt = prompt_template\n",
        "    prompt = prompt.replace(\"<documents>\", text_chunks_string)\n",
        "    prompt = prompt.replace(\"<query>\", query)\n",
        "\n",
        "    return prompt"
      ],
      "metadata": {
        "id": "Ag_92XuW3nOY"
      },
      "execution_count": 25,
      "outputs": []
    },
    {
      "cell_type": "markdown",
      "source": [
        "Let's make a sanity check."
      ],
      "metadata": {
        "id": "izziBq2W6J4_"
      }
    },
    {
      "cell_type": "code",
      "source": [
        "prompt = create_prompt(\"Fabric Quality\")\n",
        "print(prompt)"
      ],
      "metadata": {
        "colab": {
          "base_uri": "https://localhost:8080/"
        },
        "id": "_YQlNBuC4uTE",
        "outputId": "e0bbfaf5-d038-49d1-c25d-1ac88d8df141"
      },
      "execution_count": 26,
      "outputs": [
        {
          "output_type": "stream",
          "name": "stdout",
          "text": [
            "\n",
            "You are a useful chat assistant. I will give you several product reviews in an e-commerce platform for a specific product.\n",
            "I want you to consider different opinions in the information I give you, and create a short but informative answer for user's query.\n",
            "If there is no information to answer the question, then don't answer.\n",
            "\n",
            "Here is the documents:\n",
            ". the cotton is nice - glad to see retailer go back to offering natural fabrics!\r \r very pretty color, and print.\n",
            "I purchased this for a very good price and i typically love maeve... should have been a win-win. the fabric is thin and slinky in the most unfortunate way. it made finding appropriate undergarments very difficult. i had to add a slip (that helped) and figured that since i'm losing weight, it would look better when i'm down a few more pounds\n",
            ". personally do not think it has an abundance of fabric. in fact, it is a lot less roomy than a lot of others in this cut due to the embroidery\n",
            "While the cut, drape, and shape of this dress are very attractive, seeing the fabric in person was disappointing to me. it's clearly well-made and there are abundant high-quality details. however, the combination of a large-ish pattern and the wrinkly, thin cotton still felt kind of limp and cheap. i sent it back.\n",
            ". if you have tried the marvelous silk santee swing dress, the escalante has the same amount of fabric that reviewer either love or hate. i\n",
            "\n",
            "User query: Fabric Quality\n",
            "\n"
          ]
        }
      ]
    },
    {
      "cell_type": "code",
      "source": [
        "prompt = create_prompt(\"Return policy\")\n",
        "print(prompt)"
      ],
      "metadata": {
        "colab": {
          "base_uri": "https://localhost:8080/"
        },
        "id": "N2JvPe6xC1p6",
        "outputId": "c04cca7a-db43-44bd-e9a3-64f5cff71041"
      },
      "execution_count": 27,
      "outputs": [
        {
          "output_type": "stream",
          "name": "stdout",
          "text": [
            "\n",
            "You are a useful chat assistant. I will give you several product reviews in an e-commerce platform for a specific product.\n",
            "I want you to consider different opinions in the information I give you, and create a short but informative answer for user's query.\n",
            "If there is no information to answer the question, then don't answer.\n",
            "\n",
            "Here is the documents:\n",
            ". returning it :(\n",
            ". returning and hope the replacement is in better shape. if so, it will be a keeper!\n",
            ". i agree with the other reviewer that a slim person could carry the look well. i usually don't return online purchases unless they\n",
            ". this dress will not make it to sale.\n",
            ". thank you allison for such great customer service and retailer for employing such great staff.\n",
            "\n",
            "User query: Return policy\n",
            "\n"
          ]
        }
      ]
    },
    {
      "cell_type": "code",
      "source": [
        "prompt = create_prompt(\"Which size I should buy\")\n",
        "print(prompt)"
      ],
      "metadata": {
        "colab": {
          "base_uri": "https://localhost:8080/"
        },
        "id": "1PaRXMzPDqjO",
        "outputId": "0d887a7e-6476-42ba-aa7f-87a131dcf8a8"
      },
      "execution_count": 28,
      "outputs": [
        {
          "output_type": "stream",
          "name": "stdout",
          "text": [
            "\n",
            "You are a useful chat assistant. I will give you several product reviews in an e-commerce platform for a specific product.\n",
            "I want you to consider different opinions in the information I give you, and create a short but informative answer for user's query.\n",
            "If there is no information to answer the question, then don't answer.\n",
            "\n",
            "Here is the documents:\n",
            ". i sized up to a l because of my linebacker shoulders/broad bust (thanks retailer user reviewers!) i am comfy as long as i don't flail or flap. my one teeny tiny little complaint is right out of the factory cellophane bag, i had a loose\n",
            ". i went with the xs to avoid issues in the shoulders, but i maybe could have gone even smaller. fabric doesn't have a lot of give, so if you are large in the chest, my guess would be a possi\n",
            ". i got the small and it fits great. the print is lovely - the cream fabric is speckled in gray dots in some\n",
            ". this length was also a bit too long, so if you are 5'5 or shorter you may want to order the petite size.\n",
            ". i sometimes chose regular length, but this one is just right in the petite. i have long arms but these sleeves are just right. i am 5 ft. tall, b\n",
            "\n",
            "User query: Which size I should buy\n",
            "\n"
          ]
        }
      ]
    },
    {
      "cell_type": "markdown",
      "source": [
        "## Answer Generation"
      ],
      "metadata": {
        "id": "9sUAYaWo6Ru0"
      }
    },
    {
      "cell_type": "markdown",
      "source": [
        "The last step in our pipeline is to feed the augmented prompt into a chat model. We could use public models such as LLama or closed sourced models such as ChatGPT, PaLM, Claude etc.\n",
        "\n",
        "Let's use ChatGPT."
      ],
      "metadata": {
        "id": "rTB9Bfdp6UbP"
      }
    },
    {
      "cell_type": "code",
      "source": [
        "!pip install -q openai"
      ],
      "metadata": {
        "id": "UebsWgw-5h69"
      },
      "execution_count": 29,
      "outputs": []
    },
    {
      "cell_type": "code",
      "source": [
        "import os\n",
        "os.environ[\"OPENAI_API_KEY\"] = \"XXXXXXXXXXXX\""
      ],
      "metadata": {
        "id": "BN5GkNHl6zhv"
      },
      "execution_count": 30,
      "outputs": []
    },
    {
      "cell_type": "code",
      "source": [
        "from openai import OpenAI\n",
        "client = OpenAI()\n",
        "\n",
        "def generate(prompt):\n",
        "    completion = client.chat.completions.create(\n",
        "        model=\"gpt-4\",\n",
        "        messages=[\n",
        "            {\"role\": \"user\", \"content\": prompt}\n",
        "        ]\n",
        "    )\n",
        "\n",
        "    return completion.choices[0].message.content"
      ],
      "metadata": {
        "id": "diZ95m3c7Z_S"
      },
      "execution_count": 31,
      "outputs": []
    },
    {
      "cell_type": "markdown",
      "source": [
        "Sanity check:"
      ],
      "metadata": {
        "id": "o0Jwz8He79Vp"
      }
    },
    {
      "cell_type": "code",
      "source": [
        "user_query = \"Which size I should buy\"\n",
        "prompt = create_prompt(user_query)\n",
        "answer = generate(prompt)"
      ],
      "metadata": {
        "id": "dhAIJsuV770n"
      },
      "execution_count": 32,
      "outputs": []
    },
    {
      "cell_type": "code",
      "source": [
        "print(\"PROMPT\")\n",
        "print(prompt)\n",
        "print(\"-\" * 50)\n",
        "print(\"MODEL ANSWER\")\n",
        "print(answer)"
      ],
      "metadata": {
        "colab": {
          "base_uri": "https://localhost:8080/"
        },
        "id": "B5nbxgjy8Dx4",
        "outputId": "b5bff1dd-8c73-450b-80c7-1226cfe3165d"
      },
      "execution_count": 33,
      "outputs": [
        {
          "output_type": "stream",
          "name": "stdout",
          "text": [
            "PROMPT\n",
            "\n",
            "You are a useful chat assistant. I will give you several product reviews in an e-commerce platform for a specific product.\n",
            "I want you to consider different opinions in the information I give you, and create a short but informative answer for user's query.\n",
            "If there is no information to answer the question, then don't answer.\n",
            "\n",
            "Here is the documents:\n",
            ". i sized up to a l because of my linebacker shoulders/broad bust (thanks retailer user reviewers!) i am comfy as long as i don't flail or flap. my one teeny tiny little complaint is right out of the factory cellophane bag, i had a loose\n",
            ". i went with the xs to avoid issues in the shoulders, but i maybe could have gone even smaller. fabric doesn't have a lot of give, so if you are large in the chest, my guess would be a possi\n",
            ". i got the small and it fits great. the print is lovely - the cream fabric is speckled in gray dots in some\n",
            ". this length was also a bit too long, so if you are 5'5 or shorter you may want to order the petite size.\n",
            ". i sometimes chose regular length, but this one is just right in the petite. i have long arms but these sleeves are just right. i am 5 ft. tall, b\n",
            "\n",
            "User query: Which size I should buy\n",
            "\n",
            "--------------------------------------------------\n",
            "MODEL ANSWER\n",
            "Based on the reviews, the product doesn't have a lot of fabric stretch. If you have broader shoulders or a larger bust, reviewers recommend sizing up. However, if you're on the smaller side, the XS might fit just right or can even be a bit large. In terms of length, if you're 5'5 or shorter, the petite size might be a good choice. This product seems to suit those with petite measurements well given the sleeves' length and overall fit. Please consider these factors to determine your size for this product.\n"
          ]
        }
      ]
    },
    {
      "cell_type": "markdown",
      "source": [
        "## Finalize RAG pipeline"
      ],
      "metadata": {
        "id": "FVpC8yj39huL"
      }
    },
    {
      "cell_type": "code",
      "source": [
        "def RAG(query, verbose=False):\n",
        "    prompt = create_prompt(query, k=20)\n",
        "    model_answer = generate(prompt)\n",
        "\n",
        "    if verbose:\n",
        "        return model_answer, prompt\n",
        "    else:\n",
        "        return model_answer"
      ],
      "metadata": {
        "id": "gQyKxuHP8zKd"
      },
      "execution_count": 34,
      "outputs": []
    },
    {
      "cell_type": "code",
      "source": [
        "model_answer, prompt = RAG(\"How is the fabric quality?\", verbose=True)"
      ],
      "metadata": {
        "id": "BA_4O85d927x"
      },
      "execution_count": 35,
      "outputs": []
    },
    {
      "cell_type": "code",
      "source": [
        "print(model_answer)"
      ],
      "metadata": {
        "colab": {
          "base_uri": "https://localhost:8080/"
        },
        "id": "NydY1414-OgM",
        "outputId": "b133b972-b894-417a-8cc5-cee2ed55b37b"
      },
      "execution_count": 36,
      "outputs": [
        {
          "output_type": "stream",
          "name": "stdout",
          "text": [
            "The fabric quality of the product has received mixed reviews. Some customers have praised it as soft, comfortable, and natural, with one referring to it as \"buttery soft\". Some reviews also mentioned that the product's cotton feels more like a sateen than a poplin weave and other parts of it are patchworked with linen and jersey materials. On the other hand, a few customers found the fabric to be disappointing, describing it as flimsy, thin, see-through, and overly stiff in some parts. A handful even mentioned that the fabric quality felt cheap or slinky in an unflattering way.\n"
          ]
        }
      ]
    },
    {
      "cell_type": "code",
      "source": [
        "print(prompt)"
      ],
      "metadata": {
        "colab": {
          "base_uri": "https://localhost:8080/"
        },
        "id": "91JVRfot98YB",
        "outputId": "c30f12cd-2443-44c1-d410-d48f3acc2db0"
      },
      "execution_count": 37,
      "outputs": [
        {
          "output_type": "stream",
          "name": "stdout",
          "text": [
            "\n",
            "You are a useful chat assistant. I will give you several product reviews in an e-commerce platform for a specific product.\n",
            "I want you to consider different opinions in the information I give you, and create a short but informative answer for user's query.\n",
            "If there is no information to answer the question, then don't answer.\n",
            "\n",
            "Here is the documents:\n",
            ". the cotton is nice - glad to see retailer go back to offering natural fabrics!\r \r very pretty color, and print.\n",
            "Decent quality. i am 5'4\" 130 pounds. m is too big. runs slightly large.\n",
            ".\r loved that the boning at the front bust and sides keeps the dress up and in place without the straps. side pockets, and the cotton feels soft, more like a sateen than a poplin weave. lovely colo\n",
            "Beautiful color; however, the fabric did not work for me. tight on top, large on bottom.\n",
            "Flattering, flowy, comfortable. the back strops have elastic so easy on and off. flows when you walk, the ties have two different types of black fabric, matching knit on one side, a matte crepe on the other. love the pockets, very versatile piece.\n",
            "Soft, comfy, great fit. this is the perfect cozy item for fall and winter. looks really cute with the sleeves rolled or cuffed slightly. the fabric is patchworked with linen and a terry/jersey material. i'm usually a medium and the medium fit great. slimming lines and does a great job of being swingy/flared, without that tent look.\n",
            "Comfortable,t eh fabric is very soft. the embroidery adds a little to the otherwise plain black tunic. lace up neck on trend too. \r \r i ordered the xxs p, as it is likely loose... that was just fine for me, xs p would have been not as flattering. theo nly problem with that is the sleeves then became a little more snug (workout arms)\n",
            "I purchased this for a very good price and i typically love maeve... should have been a win-win. the fabric is thin and slinky in the most unfortunate way. it made finding appropriate undergarments very difficult. i had to add a slip (that helped) and figured that since i'm losing weight, it would look better when i'm down a few more pounds\n",
            ". quality most definitely in line with the price. \r \r fit: 130lbs/34c/5'6\" high waist. i'm a 4 or 6 at retailer depending on the brand. in most mou\n",
            ". beautiful fabric, great color combo, bad fit.\n",
            ". personally do not think it has an abundance of fabric. in fact, it is a lot less roomy than a lot of others in this cut due to the embroidery\n",
            "The colors in this dress are beautiful (the green/blue version) but the fabric is a very see through mesh and feels flimsy. i purchased it online and wasn't expecting it to be so sheer -- the particular empire cut combined with the fabric makes it feel more like a nightgown, i really wanted to love it but it's going back.\n",
            ". the fabric is buttery soft! the button placket down the front is very clean and lays flat. there are two side pleats that are a different fabric and are ever so\n",
            ". the material is soft and warn. the dress looks fabulous with bright tights and high boots. in the two weeks i\n",
            "While the cut, drape, and shape of this dress are very attractive, seeing the fabric in person was disappointing to me. it's clearly well-made and there are abundant high-quality details. however, the combination of a large-ish pattern and the wrinkly, thin cotton still felt kind of limp and cheap. i sent it back.\n",
            "I bought this online so didn't realize that the fabric at the bottom is very, very stiff. i was expecting something silky, or at least on the softer and more moveable side. the best description i can think of is an overly starched mens dress shirt. that being the case, it kind of juts out in weird places\n",
            ". the good though- it is super comfortable and is a nice heavy fabric. tts also. i'm a med 8/10 and the medium was correct in this.\n",
            "The fabric feels and hangs nicely. it's very versatile, you can dress up or down. i purchased the navy stripe one and wear with brown boots. thinking i might need one of the other two as well, perfect for texas winters!!\n",
            "I was so excited when this dress arrived today. as other reviewers have mentioned, the fabric is lovely, soft and drapey and it feels great on. it felt great, that is, until i looked in the mirror. while the dress fit fine, i have a large bust, and the fabric stretched across the bust, causing the print to appear washed out across the bust. not a good look. sigh. another return.\n",
            "Most comfortable and great looking! i got complements from everyone! literally!\n",
            "\n",
            "User query: How is the fabric quality?\n",
            "\n"
          ]
        }
      ]
    },
    {
      "cell_type": "markdown",
      "source": [
        "## Chat With RAG"
      ],
      "metadata": {
        "id": "TdZOh6mg-YIq"
      }
    },
    {
      "cell_type": "code",
      "source": [
        "RAG(\"Is it a price performance product?\")"
      ],
      "metadata": {
        "colab": {
          "base_uri": "https://localhost:8080/",
          "height": 70
        },
        "id": "10BfmVOD-Iwz",
        "outputId": "c7bc5473-306c-4ac7-8208-df319826ccb9"
      },
      "execution_count": 38,
      "outputs": [
        {
          "output_type": "execute_result",
          "data": {
            "text/plain": [
              "\"Yes, the majority of the reviews indicate that the product is worth the price. Both the quality and the design of the dress are appreciated by many customers. However, a few users mentioned that the fabric may feel a bit cheap or thin to some. Also, the fitting is praised, but it seems to run slightly smaller, especially across the shoulders. It's also worth mentioning that it has received positive feedback especially when purchased on sale or discount.\""
            ],
            "application/vnd.google.colaboratory.intrinsic+json": {
              "type": "string"
            }
          },
          "metadata": {},
          "execution_count": 38
        }
      ]
    },
    {
      "cell_type": "code",
      "source": [
        "RAG(\"Does it keep warm?\")"
      ],
      "metadata": {
        "colab": {
          "base_uri": "https://localhost:8080/",
          "height": 70
        },
        "id": "WPvasq1f-iwH",
        "outputId": "d3561e25-33d5-4456-b3b9-4ac3634261f6"
      },
      "execution_count": 39,
      "outputs": [
        {
          "output_type": "execute_result",
          "data": {
            "text/plain": [
              "'The dress seems to be more suited to cooler temperatures rather than hot, as mentioned by multiple users. Some of them wore it in warm climates with additional layers like tights and cardigans, while others said it was comfortable during the winter season. The material Composition (polyester and rayon) could also retain heat as suggested by one user. However, one user from California mentioned it is not good for winter even with a sweater layered over it. So, it may depend on the intensity of the cold in your area.'"
            ],
            "application/vnd.google.colaboratory.intrinsic+json": {
              "type": "string"
            }
          },
          "metadata": {},
          "execution_count": 39
        }
      ]
    },
    {
      "cell_type": "code",
      "source": [
        "RAG(\"What color is that?\")"
      ],
      "metadata": {
        "colab": {
          "base_uri": "https://localhost:8080/",
          "height": 70
        },
        "id": "t0xE-Yr1EWLc",
        "outputId": "b4c8b657-b233-48c5-9265-7a5f82fcfac5"
      },
      "execution_count": 40,
      "outputs": [
        {
          "output_type": "execute_result",
          "data": {
            "text/plain": [
              "\"The product comes in several colors including green, lime, cranberry, blue motif, tangerine, burnt orange, grey, and a blue shade. The blue motif is cream, mushroom, black and very dark navy. Some users have mentioned that the tangerine can look more red than orange, and there's a version with a deep navy background that can look almost black from some angles. Please note that perceived colors may vary due to lighting or screen settings.\""
            ],
            "application/vnd.google.colaboratory.intrinsic+json": {
              "type": "string"
            }
          },
          "metadata": {},
          "execution_count": 40
        }
      ]
    },
    {
      "cell_type": "code",
      "source": [
        "RAG(\"Can I return the product with no issue?\")"
      ],
      "metadata": {
        "colab": {
          "base_uri": "https://localhost:8080/",
          "height": 53
        },
        "id": "G3aZ0KN_EbtQ",
        "outputId": "5d4b2108-c77f-44d5-e04b-6b7cf5980f2e"
      },
      "execution_count": 41,
      "outputs": [
        {
          "output_type": "execute_result",
          "data": {
            "text/plain": [
              "'Based on the reviews, some customers have experienced issues with the product and have successfully returned it. Hence, it seems that returning the product should be possible without any issue.'"
            ],
            "application/vnd.google.colaboratory.intrinsic+json": {
              "type": "string"
            }
          },
          "metadata": {},
          "execution_count": 41
        }
      ]
    },
    {
      "cell_type": "code",
      "source": [
        "RAG(\"What is the meaning of life?\")"
      ],
      "metadata": {
        "colab": {
          "base_uri": "https://localhost:8080/",
          "height": 35
        },
        "id": "s3-dmZleEgon",
        "outputId": "cee22e82-3c30-4ddf-8d8f-37f65c858700"
      },
      "execution_count": 42,
      "outputs": [
        {
          "output_type": "execute_result",
          "data": {
            "text/plain": [
              "'The documents do not provide information on the meaning of life.'"
            ],
            "application/vnd.google.colaboratory.intrinsic+json": {
              "type": "string"
            }
          },
          "metadata": {},
          "execution_count": 42
        }
      ]
    },
    {
      "cell_type": "code",
      "source": [
        "RAG(\"Why should I buy it?\")"
      ],
      "metadata": {
        "colab": {
          "base_uri": "https://localhost:8080/",
          "height": 87
        },
        "id": "JB8OP_XqEkdf",
        "outputId": "17f0096b-8c2f-4f56-d0e9-17c17fda0b2a"
      },
      "execution_count": 43,
      "outputs": [
        {
          "output_type": "execute_result",
          "data": {
            "text/plain": [
              "\"The product is highly recommended by many purchasers for its good quality and unique design. It's a classic, timeless piece that is versatile for many occasions from work to a date. The dress seems well-made, and it fits nicely due to the elastic at the back. The print is eye-catching and it's comfortable. Furthermore, it can be both dressed up or down. Some purchasers also mentioned that it is worth its price. However, do note that some suggest to size up due to its fitted construction, and the buttons may be loosely sewn on.\""
            ],
            "application/vnd.google.colaboratory.intrinsic+json": {
              "type": "string"
            }
          },
          "metadata": {},
          "execution_count": 43
        }
      ]
    },
    {
      "cell_type": "code",
      "source": [
        "RAG(\"Why shouldn't I buy it?\")"
      ],
      "metadata": {
        "colab": {
          "base_uri": "https://localhost:8080/",
          "height": 70
        },
        "id": "bte7HBnhFP3y",
        "outputId": "76c459be-292f-4428-bfc3-a4750bde9f34"
      },
      "execution_count": 44,
      "outputs": [
        {
          "output_type": "execute_result",
          "data": {
            "text/plain": [
              "'Some users found issues with the sizing, especially around the chest area with the dress being too tight or loose. Others had concerns about the fabric quality and zipper. Some reviewers also mentioned the dress has a weird underwire that could impact its fit. Certain colors that were available online were not available in stores, and there were some negative comments around the price point being too high for the quality of the dress. Lastly, for some users, the dress was not flattering for their figure.'"
            ],
            "application/vnd.google.colaboratory.intrinsic+json": {
              "type": "string"
            }
          },
          "metadata": {},
          "execution_count": 44
        }
      ]
    },
    {
      "cell_type": "code",
      "source": [
        "RAG(\"Is it transparent?\")"
      ],
      "metadata": {
        "colab": {
          "base_uri": "https://localhost:8080/",
          "height": 53
        },
        "id": "mnyZsjv_FVFn",
        "outputId": "9e1cbd9d-d476-45b8-fa8f-1b24735d2eec"
      },
      "execution_count": 45,
      "outputs": [
        {
          "output_type": "execute_result",
          "data": {
            "text/plain": [
              "\"The product has received mixed reviews about its transparency. Some reviews state that the dress is unlined but not see-through while others suggest that it's quite sheer and see-through, which might require an additional layer underneath for modesty. Therefore, depending on the color and personal preference, the level of transparency might vary.\""
            ],
            "application/vnd.google.colaboratory.intrinsic+json": {
              "type": "string"
            }
          },
          "metadata": {},
          "execution_count": 45
        }
      ]
    },
    {
      "cell_type": "code",
      "source": [],
      "metadata": {
        "id": "4OeqmasyFXSB"
      },
      "execution_count": null,
      "outputs": []
    }
  ]
}